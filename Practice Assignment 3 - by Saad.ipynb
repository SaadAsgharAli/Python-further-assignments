{
 "cells": [
  {
   "cell_type": "markdown",
   "metadata": {},
   "source": [
    "# Q1:"
   ]
  },
  {
   "cell_type": "markdown",
   "metadata": {},
   "source": [
    "Think of at least three kinds of your favorite pizza. Store these pizza names in a list, and then use a for loop to print the name of each pizza."
   ]
  },
  {
   "cell_type": "code",
   "execution_count": null,
   "metadata": {},
   "outputs": [],
   "source": [
    "# I am going to start attempting the 15 questions included in this assignment."
   ]
  },
  {
   "cell_type": "code",
   "execution_count": 4,
   "metadata": {},
   "outputs": [
    {
     "name": "stdout",
     "output_type": "stream",
     "text": [
      "blue moon cheese\n",
      "rasp horsse\n",
      "kalpeno pepper\n",
      "afghani tikka\n"
     ]
    }
   ],
   "source": [
    "my_fav_pizzas = ['blue moon cheese', 'rasp horsse', 'kalpeno pepper', 'afghani tikka']\n",
    "for f in my_fav_pizzas:\n",
    "    print(f)"
   ]
  },
  {
   "cell_type": "code",
   "execution_count": null,
   "metadata": {},
   "outputs": [],
   "source": []
  },
  {
   "cell_type": "markdown",
   "metadata": {},
   "source": [
    "# Q2"
   ]
  },
  {
   "cell_type": "markdown",
   "metadata": {},
   "source": [
    "Start with your last question , Modify your for loop to print a sentence using the name of the pizza\n",
    "instead of printing just the name of the pizza. For each pizza you should\n",
    "have one line of output containing a simple statement like I like pepperoni\n",
    "pizza."
   ]
  },
  {
   "cell_type": "code",
   "execution_count": 8,
   "metadata": {},
   "outputs": [
    {
     "name": "stdout",
     "output_type": "stream",
     "text": [
      "I like 'blue moon cheese' pizza.\n",
      "I like 'rasp horsse' pizza.\n",
      "I like 'kalpeno pepper' pizza.\n",
      "I like 'afghani tikka' pizza.\n"
     ]
    }
   ],
   "source": [
    "for f in my_fav_pizzas:\n",
    "    print(f\"I like '{f}' pizza.\")"
   ]
  },
  {
   "cell_type": "code",
   "execution_count": null,
   "metadata": {},
   "outputs": [],
   "source": []
  },
  {
   "cell_type": "code",
   "execution_count": null,
   "metadata": {},
   "outputs": [],
   "source": []
  },
  {
   "cell_type": "markdown",
   "metadata": {},
   "source": [
    "# Q3:"
   ]
  },
  {
   "cell_type": "markdown",
   "metadata": {},
   "source": [
    "Use a for loop to print the numbers from 1 to 20,\n",
    "inclusive."
   ]
  },
  {
   "cell_type": "code",
   "execution_count": 14,
   "metadata": {},
   "outputs": [
    {
     "name": "stdout",
     "output_type": "stream",
     "text": [
      "######## Natural numbers till 20: ########\n",
      "1\n",
      "2\n",
      "3\n",
      "4\n",
      "5\n",
      "6\n",
      "7\n",
      "8\n",
      "9\n",
      "10\n",
      "11\n",
      "12\n",
      "13\n",
      "14\n",
      "15\n",
      "16\n",
      "17\n",
      "18\n",
      "19\n",
      "20\n"
     ]
    }
   ],
   "source": [
    "print(\"######## Natural numbers till 20: ########\")\n",
    "for i in range(1,20+1):\n",
    "    print(i)"
   ]
  },
  {
   "cell_type": "code",
   "execution_count": null,
   "metadata": {},
   "outputs": [],
   "source": []
  },
  {
   "cell_type": "code",
   "execution_count": null,
   "metadata": {},
   "outputs": [],
   "source": []
  },
  {
   "cell_type": "markdown",
   "metadata": {},
   "source": [
    "# Q4:"
   ]
  },
  {
   "cell_type": "markdown",
   "metadata": {},
   "source": [
    "Use the third argument of the range() function to make a list\n",
    "of the odd numbers from 1 to 20. Use a for loop to print each number."
   ]
  },
  {
   "cell_type": "code",
   "execution_count": 15,
   "metadata": {},
   "outputs": [
    {
     "name": "stdout",
     "output_type": "stream",
     "text": [
      "######## Odd Natural numbers till 20: ########\n",
      "1\n",
      "3\n",
      "5\n",
      "7\n",
      "9\n",
      "11\n",
      "13\n",
      "15\n",
      "17\n",
      "19\n"
     ]
    }
   ],
   "source": [
    "print(\"######## Odd Natural numbers till 20: ########\")\n",
    "for i in range(1,20+1,2):\n",
    "    print(i)"
   ]
  },
  {
   "cell_type": "code",
   "execution_count": null,
   "metadata": {},
   "outputs": [],
   "source": []
  },
  {
   "cell_type": "code",
   "execution_count": null,
   "metadata": {},
   "outputs": [],
   "source": []
  },
  {
   "cell_type": "markdown",
   "metadata": {},
   "source": [
    "# Q5:"
   ]
  },
  {
   "cell_type": "markdown",
   "metadata": {},
   "source": [
    "Make a list of the multiples of 3 from 3 to 30. Use a for loop to\n",
    "print the numbers in your list."
   ]
  },
  {
   "cell_type": "code",
   "execution_count": 23,
   "metadata": {},
   "outputs": [
    {
     "name": "stdout",
     "output_type": "stream",
     "text": [
      "######## Multiples of 3 from 3 to 30: ########\n",
      "3\n",
      "6\n",
      "9\n",
      "12\n",
      "15\n",
      "18\n",
      "21\n",
      "24\n",
      "27\n",
      "30\n"
     ]
    }
   ],
   "source": [
    "m3 = []\n",
    "for i in range(3,30+1,3):                                   #    i = 3,6,9,12,15,18,21,24,27,30\n",
    "    m3.append(i)\n",
    "    # m3 is a list of multiples\n",
    "print(\"######## Multiples of 3 from 3 to 30: ########\")\n",
    "for i in m3:\n",
    "    print(i)\n",
    "    "
   ]
  },
  {
   "cell_type": "code",
   "execution_count": null,
   "metadata": {},
   "outputs": [],
   "source": [
    "# Alternate and easier way:\n",
    "\n",
    "print(\"######## Multiples of 3 from 3 to 30: ########\")\n",
    "for i in range(3,30+1,3):\n",
    "    print(i)"
   ]
  },
  {
   "cell_type": "code",
   "execution_count": null,
   "metadata": {},
   "outputs": [],
   "source": [
    "# I'm HAPPY to see that 1/3rd of my assignment has been completed.       Hail, Saad!"
   ]
  },
  {
   "cell_type": "code",
   "execution_count": null,
   "metadata": {},
   "outputs": [],
   "source": []
  },
  {
   "cell_type": "markdown",
   "metadata": {},
   "source": [
    "# Q6:"
   ]
  },
  {
   "cell_type": "markdown",
   "metadata": {},
   "source": [
    "A number raised to the third power is called a cube. For example,\n",
    "the cube of 2 is written as 2**3 in Python. Make a list of the first 10 cubes (that\n",
    "is, the cube of each integer from 1 through 10), and use a for loop to print out\n",
    "the value of each cube"
   ]
  },
  {
   "cell_type": "code",
   "execution_count": 25,
   "metadata": {},
   "outputs": [
    {
     "name": "stdout",
     "output_type": "stream",
     "text": [
      "######## First 10 cubes: ########\n",
      "1\n",
      "8\n",
      "27\n",
      "64\n",
      "125\n",
      "216\n",
      "343\n",
      "512\n",
      "729\n",
      "1000\n"
     ]
    }
   ],
   "source": [
    "c10 = []\n",
    "for i in range(1,10+1):                                   #    i = 3,6,9,12,15,18,21,24,27,30\n",
    "    i_n = i**3\n",
    "    c10.append(i_n)\n",
    "    # c10 is a list of first 10 cubes\n",
    "    \n",
    "print(\"######## First 10 cubes: ########\")\n",
    "for i in c10:\n",
    "    print(i)"
   ]
  },
  {
   "cell_type": "code",
   "execution_count": 12,
   "metadata": {},
   "outputs": [
    {
     "name": "stdout",
     "output_type": "stream",
     "text": [
      "######## First 10 cubes: ########\n"
     ]
    },
    {
     "data": {
      "text/plain": [
       "{1, 8, 27, 64, 125, 216, 343, 512, 729, 1000}"
      ]
     },
     "execution_count": 12,
     "metadata": {},
     "output_type": "execute_result"
    }
   ],
   "source": [
    "# Alternate and easier way without making list:\n",
    "\n",
    "print(\"######## First 10 cubes: ########\")\n",
    "{i**3 for i in range(1,10+1)}  "
   ]
  },
  {
   "cell_type": "code",
   "execution_count": null,
   "metadata": {},
   "outputs": [],
   "source": []
  },
  {
   "cell_type": "code",
   "execution_count": null,
   "metadata": {},
   "outputs": [],
   "source": []
  },
  {
   "cell_type": "markdown",
   "metadata": {},
   "source": [
    "# Q7:"
   ]
  },
  {
   "cell_type": "markdown",
   "metadata": {},
   "source": [
    "###### Make a python program that conatains your nine favourite dishes in a list called foods.\n",
    "\n",
    "###### Print the message, The first three items in the list are:. \n",
    "###### Then use a slice to print the first three items from that program’s list.\n",
    "\n",
    "###### Print the message, Three items from the middle of the list are:\n",
    "###### Use a slice to print three items from the middle of the list.\n",
    "\n",
    "###### Print the message, The last three items in the list are:\n",
    "###### Use a slice to print the last three items in the list."
   ]
  },
  {
   "cell_type": "code",
   "execution_count": 116,
   "metadata": {},
   "outputs": [
    {
     "name": "stdout",
     "output_type": "stream",
     "text": [
      "The first three items in the list are:\n",
      "beef biryani\n",
      "fish kabab\n",
      "fried prawns\n",
      "\n",
      "Three items from the middle of the list are:\n",
      "hot dog\n",
      "nalli nihari\n",
      "yakni pulao\n",
      "\n",
      "The last three items in the list are:\n",
      "khausay\n",
      "chicken broast\n",
      "fried chaanp\n"
     ]
    }
   ],
   "source": [
    "foods = ['beef biryani', 'fish kabab', 'fried prawns', 'hot dog', 'nalli nihari', 'yakni pulao', 'khausay', 'chicken broast', 'fried chaanp']\n",
    "\n",
    "print(\"The first three items in the list are:\")\n",
    "for i in foods[0:3]:\n",
    "    print(i)\n",
    "    \n",
    "print(\"\\nThree items from the middle of the list are:\")\n",
    "for i in foods[3:6]:\n",
    "    print(i)\n",
    "    \n",
    "print(\"\\nThe last three items in the list are:\")\n",
    "for i in foods[6:9]:\n",
    "    print(i)"
   ]
  },
  {
   "cell_type": "code",
   "execution_count": null,
   "metadata": {},
   "outputs": [],
   "source": []
  },
  {
   "cell_type": "code",
   "execution_count": null,
   "metadata": {},
   "outputs": [],
   "source": []
  },
  {
   "cell_type": "code",
   "execution_count": null,
   "metadata": {},
   "outputs": [],
   "source": []
  },
  {
   "cell_type": "code",
   "execution_count": null,
   "metadata": {},
   "outputs": [],
   "source": []
  },
  {
   "cell_type": "code",
   "execution_count": null,
   "metadata": {},
   "outputs": [],
   "source": []
  },
  {
   "cell_type": "code",
   "execution_count": null,
   "metadata": {},
   "outputs": [],
   "source": []
  },
  {
   "cell_type": "markdown",
   "metadata": {},
   "source": [
    "# Q8:"
   ]
  },
  {
   "cell_type": "markdown",
   "metadata": {},
   "source": [
    "### Start with your program from your last Question8.\n",
    "###### Make a copy of the list of foods, and call it friend_foods.\n",
    "###### Then, do the following:\n",
    "######    Add a new dish to the original list.\n",
    "######    Add a different dish to the list friend_foodss.\n",
    "######    Prove that you have two separate lists. \n",
    "###### Print the message, My favorite pizzas are: and then use a for loop to print the first list. \n",
    "###### Print the message,\n",
    "###### My friend’s favorite foods are:, and then use a for loop to print the second list.\n",
    "    \n",
    "##### NOTE: Make sure each new dish is stored in the appropriate list."
   ]
  },
  {
   "cell_type": "code",
   "execution_count": 138,
   "metadata": {},
   "outputs": [
    {
     "name": "stdout",
     "output_type": "stream",
     "text": [
      "Both are seperate lists, Prooved!\n",
      "\n",
      "\n"
     ]
    }
   ],
   "source": [
    "if len(foods) == 9:                 # This condition allows to retrieve same result, when running this cell several times.\n",
    "    friend_foods = foods[:]         # (or)  friend_foods = foods[:]\n",
    "\n",
    "if len(foods) == 9 and len(friend_foods) == 9:   \n",
    "    foods.append('chinese roll')\n",
    "    friend_foods.append('fries')\n",
    "\n",
    "# Seperation tester between lists\n",
    "if set(foods) != set(friend_foods):\n",
    "    print('Both are seperate lists, Prooved!\\n\\n')"
   ]
  },
  {
   "cell_type": "code",
   "execution_count": 139,
   "metadata": {},
   "outputs": [
    {
     "name": "stdout",
     "output_type": "stream",
     "text": [
      "My favorite foods are: ['beef biryani', 'fish kabab', 'fried prawns', 'hot dog', 'nalli nihari', 'yakni pulao', 'khausay', 'chicken broast', 'fried chaanp', 'chinese roll']. \n",
      "\n",
      "My friend’s favorite foods: ['beef biryani', 'fish kabab', 'fried prawns', 'hot dog', 'nalli nihari', 'yakni pulao', 'khausay', 'chicken broast', 'fried chaanp', 'fries'].\n"
     ]
    }
   ],
   "source": [
    "print(f\"My favorite foods are: {foods}. \\n\\nMy friend’s favorite foods: {friend_foods}.\")"
   ]
  },
  {
   "cell_type": "code",
   "execution_count": null,
   "metadata": {},
   "outputs": [],
   "source": []
  },
  {
   "cell_type": "code",
   "execution_count": null,
   "metadata": {},
   "outputs": [],
   "source": [
    " "
   ]
  },
  {
   "cell_type": "code",
   "execution_count": null,
   "metadata": {},
   "outputs": [],
   "source": []
  },
  {
   "cell_type": "code",
   "execution_count": 40,
   "metadata": {},
   "outputs": [],
   "source": [
    "# Rough Work:\n",
    "\n",
    "a = [1,2,3,4]\n",
    "b = [4,2,3,1,4,2]\n",
    "if set(a) != set(b):\n",
    "    print('different')"
   ]
  },
  {
   "cell_type": "markdown",
   "metadata": {},
   "source": [
    "# Q9:"
   ]
  },
  {
   "cell_type": "markdown",
   "metadata": {},
   "source": [
    "Take a user input from console line.Store it in a variable called Alien_color.\n",
    "\n",
    "If the alien’s color is red, print a statement that the player just earned 5 points for shooting the alien.\n",
    "\n",
    "If the alien’s color isn’t green, print a statement that the player just earned 10 points.\n",
    "\n",
    "If the alien's color isn't red or green , print a statment :, Alien is no more....."
   ]
  },
  {
   "cell_type": "code",
   "execution_count": 146,
   "metadata": {},
   "outputs": [
    {
     "name": "stdout",
     "output_type": "stream",
     "text": [
      "Guess the alien color? rEd\n",
      "You just earned 5 points for shooting the alien\n"
     ]
    }
   ],
   "source": [
    "Alien_color = input(\"Guess the alien color? \")\n",
    "if Alien_color.lower() == 'red':\n",
    "    print(\"You just earned 5 points for shooting the alien\")\n",
    "elif Alien_color.lower() == 'green':\n",
    "    print(\"You just earned 10 points\")\n",
    "else:\n",
    "    print(\"Alien no more...\")"
   ]
  },
  {
   "cell_type": "code",
   "execution_count": null,
   "metadata": {},
   "outputs": [],
   "source": []
  },
  {
   "cell_type": "code",
   "execution_count": null,
   "metadata": {},
   "outputs": [],
   "source": []
  },
  {
   "cell_type": "code",
   "execution_count": null,
   "metadata": {},
   "outputs": [],
   "source": []
  },
  {
   "cell_type": "markdown",
   "metadata": {},
   "source": [
    "# Q10:"
   ]
  },
  {
   "cell_type": "markdown",
   "metadata": {},
   "source": [
    "Write an if-elif-else chain that determines a person’s\n",
    "stage of life. Set a value for the variable age, and then:\n",
    "    \n",
    "•\t If the person is less than 2 years old, print a message that the person is a baby.\n",
    "\n",
    "•\t If the person is at least 2 years old but less than 4, print a message that the person is a toddler.\n",
    "\n",
    "•\t If the person is at least 4 years old but less than 13, print a message that the person is a kid.\n",
    "\n",
    "•\t If the person is at least 13 years old but less than 20, print a message that the person is a teenager.\n",
    "\n",
    "•\t If the person is at least 20 years old but less than 65, print a message that the person is an adult.\n",
    "\n",
    "•\t If the person is age 65 or older, print a message that the person is an elder."
   ]
  },
  {
   "cell_type": "code",
   "execution_count": 159,
   "metadata": {},
   "outputs": [],
   "source": [
    "age = 0.5"
   ]
  },
  {
   "cell_type": "code",
   "execution_count": 160,
   "metadata": {},
   "outputs": [
    {
     "name": "stdout",
     "output_type": "stream",
     "text": [
      "person is a baby\n"
     ]
    }
   ],
   "source": [
    "if age < 2:\n",
    "    print(\"person is a baby\")\n",
    "elif age >= 2 and age < 4:\n",
    "    print(\"person is a toddler\")\n",
    "elif age >= 4 and age < 13:\n",
    "    print(\"person is a kid\")\n",
    "elif age >= 13 and age < 20:\n",
    "    print(\"person is a teenager\")\n",
    "elif age >= 20 and age < 65:\n",
    "    print(\"person is a adult\")\n",
    "else:\n",
    "    print(\"person is an elder\")"
   ]
  },
  {
   "cell_type": "code",
   "execution_count": null,
   "metadata": {},
   "outputs": [],
   "source": [
    "# I'm HAPPY to see that 2/3rd of my assignment has been completed.      \n",
    "# Hail, Saad!\n",
    "# Hail, Saad!"
   ]
  },
  {
   "cell_type": "code",
   "execution_count": null,
   "metadata": {},
   "outputs": [],
   "source": []
  },
  {
   "cell_type": "code",
   "execution_count": null,
   "metadata": {},
   "outputs": [],
   "source": []
  },
  {
   "cell_type": "code",
   "execution_count": null,
   "metadata": {},
   "outputs": [],
   "source": []
  },
  {
   "cell_type": "markdown",
   "metadata": {},
   "source": [
    "# Q11:"
   ]
  },
  {
   "cell_type": "markdown",
   "metadata": {},
   "source": [
    "Do the following to create a program that simulates how websites ensure that everyone has a unique username.\n",
    "\n",
    "•\t Make a list of five or more usernames called current_users.\n",
    "\n",
    "•\t Make another list of five usernames called new_users. \n",
    "Make sure one or two of the new usernames are also in the current_users list.\n",
    "\n",
    "•\t Loop through the new_users list to see if each new username has already been used. \n",
    "If it has, print a message that the person will need to enter a new username. \n",
    "If a username has not been used, print a message saying that the username is available.\n",
    "\n",
    "•\t Make sure your comparison is case insensitive. If 'John' has been used, 'JOHN' should not be accepted."
   ]
  },
  {
   "cell_type": "code",
   "execution_count": 162,
   "metadata": {},
   "outputs": [
    {
     "name": "stdout",
     "output_type": "stream",
     "text": [
      "trump >>> This username is available\n",
      "putin >>> This username is available\n",
      "emma >>> Please enter a new username\n",
      "RUBAB >>> This username is available\n",
      "priyanka >>> Please enter a new username\n"
     ]
    }
   ],
   "source": [
    "current_users = ['sana','afridi','rubab','priyanka','emma']\n",
    "new_users = ['trump','putin','emma','RUBAB','priyanka']\n",
    "\n",
    "for new in new_users:\n",
    "    for user in current_users:\n",
    "        if new == user:\n",
    "            print(f'{new} >>> Please enter a new username')\n",
    "            break\n",
    "        elif user == current_users[len(current_users)-1]:\n",
    "            print(f'{new} >>> This username is available')"
   ]
  },
  {
   "cell_type": "code",
   "execution_count": null,
   "metadata": {},
   "outputs": [],
   "source": []
  },
  {
   "cell_type": "code",
   "execution_count": null,
   "metadata": {},
   "outputs": [],
   "source": []
  },
  {
   "cell_type": "markdown",
   "metadata": {},
   "source": [
    "# Q12:"
   ]
  },
  {
   "cell_type": "markdown",
   "metadata": {},
   "source": [
    "Use a dictionary to store information about a person you know.\n",
    "Store their first name, last name, age, and the city in which they live. \n",
    "You should have keys such as first_name, last_name, age, and city. \n",
    "Print each piece of information stored in your dictionary"
   ]
  },
  {
   "cell_type": "code",
   "execution_count": 41,
   "metadata": {},
   "outputs": [
    {
     "name": "stdout",
     "output_type": "stream",
     "text": [
      "first_name Hammad\n",
      "last_name Hassan\n",
      "age 24\n",
      "city Karachi\n"
     ]
    }
   ],
   "source": [
    "person_f = {'first_name':'Hammad', 'last_name':'Hassan', 'age':24, 'city':'Karachi'}\n",
    "\n",
    "for k,v in person_f.items():\n",
    "    print(k,v)"
   ]
  },
  {
   "cell_type": "code",
   "execution_count": null,
   "metadata": {},
   "outputs": [],
   "source": []
  },
  {
   "cell_type": "code",
   "execution_count": null,
   "metadata": {},
   "outputs": [],
   "source": []
  },
  {
   "cell_type": "code",
   "execution_count": null,
   "metadata": {},
   "outputs": [],
   "source": []
  },
  {
   "cell_type": "markdown",
   "metadata": {},
   "source": [
    "# Q13:"
   ]
  },
  {
   "cell_type": "markdown",
   "metadata": {},
   "source": [
    "Starts with your last question 12 , loop through the dictionary’s keys and values.\n",
    "When you’re sure that your loop works, add five more Python terms to your\n",
    "dictionary . When you run your program again, these new words and meanings\n",
    "should automatically be included in the output."
   ]
  },
  {
   "cell_type": "code",
   "execution_count": 42,
   "metadata": {},
   "outputs": [
    {
     "name": "stdout",
     "output_type": "stream",
     "text": [
      "######## Keys in person's dictionary: ########\n",
      "first_name\n",
      "last_name\n",
      "age\n",
      "city\n",
      "\n",
      "######## Values in person's dictionary: ########\n",
      "Hammad\n",
      "Hassan\n",
      "24\n",
      "Karachi\n"
     ]
    }
   ],
   "source": [
    "print(\"######## Keys in person's dictionary: ########\")\n",
    "for key in person_f.keys():\n",
    "    print(key)\n",
    "    \n",
    "print(\"\\n######## Values in person's dictionary: ########\")\n",
    "for key in person_f.keys():\n",
    "    print(person_f[key])"
   ]
  },
  {
   "cell_type": "code",
   "execution_count": 44,
   "metadata": {},
   "outputs": [
    {
     "data": {
      "text/plain": [
       "{'first_name': 'Hammad',\n",
       " 'last_name': 'Hassan',\n",
       " 'age': 24,\n",
       " 'city': 'Karachi',\n",
       " 'qua': 'bach',\n",
       " 'house': '120',\n",
       " 'rooms': '4',\n",
       " 'car': 'audi',\n",
       " 'bike': 'harley'}"
      ]
     },
     "execution_count": 44,
     "metadata": {},
     "output_type": "execute_result"
    }
   ],
   "source": [
    "k=['qua','house','rooms','car','bike']\n",
    "v=['bach','120','4','audi','harley']\n",
    "for i in range(len(k)):\n",
    "    k1 = k[i]\n",
    "    v1 = v[i]\n",
    "    person_f[k1]=v1\n",
    "    \n",
    "person_f"
   ]
  },
  {
   "cell_type": "code",
   "execution_count": null,
   "metadata": {},
   "outputs": [],
   "source": []
  },
  {
   "cell_type": "markdown",
   "metadata": {},
   "source": [
    "# Q14:"
   ]
  },
  {
   "cell_type": "markdown",
   "metadata": {},
   "source": [
    "Make a dictionary containing three major rivers and the country\n",
    "each river runs through. One key-value pair might be 'nile': 'egypt'.\n",
    "    \n",
    "    \n",
    "•\t Use a loop to print a sentence about each river, such as The Nile runs\n",
    "through Egypt.\n",
    "\n",
    "NOTE: use upper case through keys and values."
   ]
  },
  {
   "cell_type": "code",
   "execution_count": 47,
   "metadata": {},
   "outputs": [
    {
     "name": "stdout",
     "output_type": "stream",
     "text": [
      "The Nile runs through Egypt\n",
      "The Yangtze runs through China\n",
      "The Volga runs through Russia\n"
     ]
    }
   ],
   "source": [
    "rivers = {'nile':'egypt', 'yangtze':'china', 'volga':'russia'}\n",
    "for k,v in rivers.items():\n",
    "    k=k.capitalize()                # k.upper() is used for changing whole string to capital\n",
    "    v=v.capitalize()\n",
    "    print(f\"The {k} runs through {v}\")"
   ]
  },
  {
   "cell_type": "code",
   "execution_count": null,
   "metadata": {},
   "outputs": [],
   "source": []
  },
  {
   "cell_type": "code",
   "execution_count": null,
   "metadata": {},
   "outputs": [],
   "source": []
  },
  {
   "cell_type": "markdown",
   "metadata": {},
   "source": [
    "# Q15:"
   ]
  },
  {
   "cell_type": "markdown",
   "metadata": {},
   "source": [
    "Make several dictionaries, where the name of each dictionary is the\n",
    "name of a pet. In each dictionary, include the kind of animal and the owner’s\n",
    "name. Store these dictionaries in a list called pets. Next, loop through your list\n",
    "and as you do print everything you know about each pet."
   ]
  },
  {
   "cell_type": "code",
   "execution_count": 68,
   "metadata": {},
   "outputs": [
    {
     "name": "stdout",
     "output_type": "stream",
     "text": [
      "#### About grey cat:\n",
      "Kind: mammal\n",
      "Owner: Saad\n",
      "#### About soft piegon:\n",
      "Kind: bird\n",
      "Owner: Arbab\n",
      "#### About tiny turtle:\n",
      "Kind: mud animal\n",
      "Owner: Jasmine\n",
      "#### About blue jellyfish:\n",
      "Kind: sea animal\n",
      "Owner: Nasir\n"
     ]
    }
   ],
   "source": [
    "cat={'name':'grey cat','kind':'mammal', 'owner':'Saad'}\n",
    "piegon={'name':'soft piegon','kind':'bird', 'owner':'Arbab'}\n",
    "turtle={'name':'tiny turtle','kind':'mud animal', 'owner':'Jasmine'}\n",
    "jellyfish={'name':'blue jellyfish','kind':'sea animal', 'owner':'Nasir'}\n",
    "\n",
    "pets=[cat, piegon, turtle, jellyfish]\n",
    "\n",
    "for n in pets:\n",
    "    print(f\"#### About {n['name']}:\")\n",
    "    print(f\"Kind: {n['kind']}\")\n",
    "    print(f\"Owner: {n['owner']}\")        "
   ]
  },
  {
   "cell_type": "code",
   "execution_count": null,
   "metadata": {},
   "outputs": [],
   "source": [
    "## THE END, Assignment completed!"
   ]
  }
 ],
 "metadata": {
  "kernelspec": {
   "display_name": "Python 3",
   "language": "python",
   "name": "python3"
  },
  "language_info": {
   "codemirror_mode": {
    "name": "ipython",
    "version": 3
   },
   "file_extension": ".py",
   "mimetype": "text/x-python",
   "name": "python",
   "nbconvert_exporter": "python",
   "pygments_lexer": "ipython3",
   "version": "3.7.3"
  }
 },
 "nbformat": 4,
 "nbformat_minor": 2
}
