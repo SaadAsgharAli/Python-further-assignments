{
 "cells": [
  {
   "cell_type": "markdown",
   "metadata": {},
   "source": [
    "### TASK: Print table after taking beginning and ending value from the user"
   ]
  },
  {
   "cell_type": "code",
   "execution_count": 1,
   "metadata": {},
   "outputs": [
    {
     "name": "stdout",
     "output_type": "stream",
     "text": [
      "Enter the number of table u wanna print: 11\n",
      "Starting value of the table = 3\n",
      "Ending value of the table = 8\n",
      "11 * 3 = 33\n",
      "11 * 4 = 44\n",
      "11 * 5 = 55\n",
      "11 * 6 = 66\n",
      "11 * 7 = 77\n",
      "11 * 8 = 88\n"
     ]
    }
   ],
   "source": [
    "def cust_tab(a1,b1,c1):\n",
    "    for i in range(b1,c1+1):\n",
    "        y = a1*i\n",
    "        print(f\"{a1} * {i} = {y}\")\n",
    "        \n",
    "\n",
    "x = int(input(\"Enter the number of table u wanna print: \"))\n",
    "a = int(input(\"Starting value of the table = \"))\n",
    "z = int(input(\"Ending value of the table = \"))\n",
    "cust_tab(x,a,z)"
   ]
  },
  {
   "cell_type": "code",
   "execution_count": null,
   "metadata": {},
   "outputs": [],
   "source": []
  }
 ],
 "metadata": {
  "kernelspec": {
   "display_name": "Python 3",
   "language": "python",
   "name": "python3"
  },
  "language_info": {
   "codemirror_mode": {
    "name": "ipython",
    "version": 3
   },
   "file_extension": ".py",
   "mimetype": "text/x-python",
   "name": "python",
   "nbconvert_exporter": "python",
   "pygments_lexer": "ipython3",
   "version": "3.7.3"
  }
 },
 "nbformat": 4,
 "nbformat_minor": 2
}
